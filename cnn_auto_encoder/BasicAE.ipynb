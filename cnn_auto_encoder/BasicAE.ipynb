{
 "cells": [
  {
   "cell_type": "code",
   "execution_count": 52,
   "metadata": {},
   "outputs": [],
   "source": [
    "%matplotlib inline\n",
    "import numpy as np\n",
    "import tensorflow as tf\n",
    "import matplotlib.pyplot as plt"
   ]
  },
  {
   "cell_type": "markdown",
   "metadata": {},
   "source": [
    "## 加载数据\n",
    "mnist数据保存在 ```/home/kevin/dataset/MNSIT``` 的文件夹中"
   ]
  },
  {
   "cell_type": "code",
   "execution_count": 53,
   "metadata": {},
   "outputs": [
    {
     "name": "stdout",
     "output_type": "stream",
     "text": [
      "Extracting /home/kevin/dataset/MNIST/train-images-idx3-ubyte.gz\n",
      "Extracting /home/kevin/dataset/MNIST/train-labels-idx1-ubyte.gz\n",
      "Extracting /home/kevin/dataset/MNIST/t10k-images-idx3-ubyte.gz\n",
      "Extracting /home/kevin/dataset/MNIST/t10k-labels-idx1-ubyte.gz\n"
     ]
    }
   ],
   "source": [
    "from tensorflow.examples.tutorials.mnist import input_data\n",
    "mnist = input_data.read_data_sets('/home/kevin/dataset/MNIST/', validation_size=0)"
   ]
  },
  {
   "cell_type": "code",
   "execution_count": 54,
   "metadata": {},
   "outputs": [
    {
     "data": {
      "image/png": "[encoded data removed]",
      "text/plain": [
       "<matplotlib.figure.Figure at 0x7f0593b492e8>"
      ]
     },
     "metadata": {},
     "output_type": "display_data"
    },
    {
     "data": {
      "image/png": "[encoded data removed]",
      "text/plain": [
       "<matplotlib.figure.Figure at 0x7f0593b497f0>"
      ]
     },
     "metadata": {},
     "output_type": "display_data"
    }
   ],
   "source": [
    "img = mnist.train.images[20]\n",
    "plt.figure()\n",
    "plt.imshow(img.reshape((28,28)))\n",
    "plt.figure()\n",
    "plt.imshow(img.reshape((28,28)), cmap='Greys_r')\n",
    "plt.show()"
   ]
  },
  {
   "cell_type": "markdown",
   "metadata": {},
   "source": [
    "## 构造AutoEncoder\n",
    "我们实现一个最简单的模型，即包括三个部分：\n",
    "* 输入层\n",
    "* 隐藏层\n",
    "* 输出层"
   ]
  },
  {
   "cell_type": "code",
   "execution_count": 55,
   "metadata": {},
   "outputs": [],
   "source": [
    "# basic parameters\n",
    "hidden_units = 64\n",
    "input_units = mnist.train.images.shape[1]"
   ]
  },
  {
   "cell_type": "markdown",
   "metadata": {},
   "source": [
    "## 输入层\n",
    "由于AutoEncoder是对源输入的复现，因此这里的输出层与输入层数据相同"
   ]
  },
  {
   "cell_type": "code",
   "execution_count": 56,
   "metadata": {},
   "outputs": [],
   "source": [
    "inputs_ = tf.placeholder(tf.float32, shape=(None, input_units), name='inputs_')\n",
    "targets_ = tf.placeholder(tf.float32, shape=(None, input_units), name='tragets_')"
   ]
  },
  {
   "cell_type": "markdown",
   "metadata": {},
   "source": [
    "## 隐藏层"
   ]
  },
  {
   "cell_type": "code",
   "execution_count": 57,
   "metadata": {
    "collapsed": true
   },
   "outputs": [],
   "source": [
    "hidden_ = tf.layers.dense(inputs=inputs_, units=hidden_units, activation=tf.nn.relu)"
   ]
  },
  {
   "cell_type": "markdown",
   "metadata": {},
   "source": [
    "## 输出层"
   ]
  },
  {
   "cell_type": "code",
   "execution_count": 58,
   "metadata": {
    "collapsed": true
   },
   "outputs": [],
   "source": [
    "logits_ = tf.layers.dense(inputs=hidden_, units=input_units, activation=None)\n",
    "outputs_ = tf.sigmoid(logits_, name='outputs_')"
   ]
  },
  {
   "cell_type": "markdown",
   "metadata": {},
   "source": [
    "## 损失函数"
   ]
  },
  {
   "cell_type": "code",
   "execution_count": 59,
   "metadata": {
    "collapsed": true
   },
   "outputs": [],
   "source": [
    "loss = tf.nn.sigmoid_cross_entropy_with_logits(labels=targets_, logits=logits_)\n",
    "cost = tf.reduce_mean(loss)"
   ]
  },
  {
   "cell_type": "markdown",
   "metadata": {},
   "source": [
    "## 优化函数"
   ]
  },
  {
   "cell_type": "code",
   "execution_count": 60,
   "metadata": {
    "collapsed": true
   },
   "outputs": [],
   "source": [
    "learning_rate = 0.01\n",
    "optimizer = tf.train.AdamOptimizer(learning_rate=learning_rate).minimize(loss)"
   ]
  },
  {
   "cell_type": "markdown",
   "metadata": {},
   "source": [
    "## 训练"
   ]
  },
  {
   "cell_type": "code",
   "execution_count": 61,
   "metadata": {
    "collapsed": true
   },
   "outputs": [],
   "source": [
    "sess = tf.InteractiveSession()"
   ]
  },
  {
   "cell_type": "code",
   "execution_count": 62,
   "metadata": {
    "scrolled": true
   },
   "outputs": [
    {
     "name": "stdout",
     "output_type": "stream",
     "text": [
      "Epoch:1/100, batch:1/1, Training loss:0.6944\n",
      "Epoch:2/100, batch:1/1, Training loss:0.6022\n",
      "Epoch:3/100, batch:1/1, Training loss:0.4672\n",
      "Epoch:4/100, batch:1/1, Training loss:0.3622\n",
      "Epoch:5/100, batch:1/1, Training loss:0.3221\n",
      "Epoch:6/100, batch:1/1, Training loss:0.3111\n",
      "Epoch:7/100, batch:1/1, Training loss:0.3066\n",
      "Epoch:8/100, batch:1/1, Training loss:0.3011\n",
      "Epoch:9/100, batch:1/1, Training loss:0.2940\n",
      "Epoch:10/100, batch:1/1, Training loss:0.2890\n",
      "Epoch:11/100, batch:1/1, Training loss:0.2823\n",
      "Epoch:12/100, batch:1/1, Training loss:0.2743\n",
      "Epoch:13/100, batch:1/1, Training loss:0.2664\n",
      "Epoch:14/100, batch:1/1, Training loss:0.2596\n",
      "Epoch:15/100, batch:1/1, Training loss:0.2542\n",
      "Epoch:16/100, batch:1/1, Training loss:0.2492\n",
      "Epoch:17/100, batch:1/1, Training loss:0.2438\n",
      "Epoch:18/100, batch:1/1, Training loss:0.2384\n",
      "Epoch:19/100, batch:1/1, Training loss:0.2334\n",
      "Epoch:20/100, batch:1/1, Training loss:0.2292\n",
      "Epoch:21/100, batch:1/1, Training loss:0.2259\n",
      "Epoch:22/100, batch:1/1, Training loss:0.2232\n",
      "Epoch:23/100, batch:1/1, Training loss:0.2207\n",
      "Epoch:24/100, batch:1/1, Training loss:0.2181\n",
      "Epoch:25/100, batch:1/1, Training loss:0.2155\n",
      "Epoch:26/100, batch:1/1, Training loss:0.2128\n",
      "Epoch:27/100, batch:1/1, Training loss:0.2102\n",
      "Epoch:28/100, batch:1/1, Training loss:0.2076\n",
      "Epoch:29/100, batch:1/1, Training loss:0.2050\n",
      "Epoch:30/100, batch:1/1, Training loss:0.2026\n",
      "Epoch:31/100, batch:1/1, Training loss:0.2002\n",
      "Epoch:32/100, batch:1/1, Training loss:0.1980\n",
      "Epoch:33/100, batch:1/1, Training loss:0.1959\n",
      "Epoch:34/100, batch:1/1, Training loss:0.1938\n",
      "Epoch:35/100, batch:1/1, Training loss:0.1918\n",
      "Epoch:36/100, batch:1/1, Training loss:0.1899\n",
      "Epoch:37/100, batch:1/1, Training loss:0.1881\n",
      "Epoch:38/100, batch:1/1, Training loss:0.1864\n",
      "Epoch:39/100, batch:1/1, Training loss:0.1847\n",
      "Epoch:40/100, batch:1/1, Training loss:0.1831\n",
      "Epoch:41/100, batch:1/1, Training loss:0.1816\n",
      "Epoch:42/100, batch:1/1, Training loss:0.1801\n",
      "Epoch:43/100, batch:1/1, Training loss:0.1786\n",
      "Epoch:44/100, batch:1/1, Training loss:0.1772\n",
      "Epoch:45/100, batch:1/1, Training loss:0.1759\n",
      "Epoch:46/100, batch:1/1, Training loss:0.1746\n",
      "Epoch:47/100, batch:1/1, Training loss:0.1733\n",
      "Epoch:48/100, batch:1/1, Training loss:0.1721\n",
      "Epoch:49/100, batch:1/1, Training loss:0.1708\n",
      "Epoch:50/100, batch:1/1, Training loss:0.1696\n",
      "Epoch:51/100, batch:1/1, Training loss:0.1684\n",
      "Epoch:52/100, batch:1/1, Training loss:0.1673\n",
      "Epoch:53/100, batch:1/1, Training loss:0.1662\n",
      "Epoch:54/100, batch:1/1, Training loss:0.1651\n",
      "Epoch:55/100, batch:1/1, Training loss:0.1640\n",
      "Epoch:56/100, batch:1/1, Training loss:0.1630\n",
      "Epoch:57/100, batch:1/1, Training loss:0.1620\n",
      "Epoch:58/100, batch:1/1, Training loss:0.1610\n",
      "Epoch:59/100, batch:1/1, Training loss:0.1600\n",
      "Epoch:60/100, batch:1/1, Training loss:0.1591\n",
      "Epoch:61/100, batch:1/1, Training loss:0.1581\n",
      "Epoch:62/100, batch:1/1, Training loss:0.1572\n",
      "Epoch:63/100, batch:1/1, Training loss:0.1563\n",
      "Epoch:64/100, batch:1/1, Training loss:0.1554\n",
      "Epoch:65/100, batch:1/1, Training loss:0.1546\n",
      "Epoch:66/100, batch:1/1, Training loss:0.1537\n",
      "Epoch:67/100, batch:1/1, Training loss:0.1529\n",
      "Epoch:68/100, batch:1/1, Training loss:0.1520\n",
      "Epoch:69/100, batch:1/1, Training loss:0.1512\n",
      "Epoch:70/100, batch:1/1, Training loss:0.1504\n",
      "Epoch:71/100, batch:1/1, Training loss:0.1496\n",
      "Epoch:72/100, batch:1/1, Training loss:0.1489\n",
      "Epoch:73/100, batch:1/1, Training loss:0.1481\n",
      "Epoch:74/100, batch:1/1, Training loss:0.1473\n",
      "Epoch:75/100, batch:1/1, Training loss:0.1466\n",
      "Epoch:76/100, batch:1/1, Training loss:0.1458\n",
      "Epoch:77/100, batch:1/1, Training loss:0.1451\n",
      "Epoch:78/100, batch:1/1, Training loss:0.1444\n",
      "Epoch:79/100, batch:1/1, Training loss:0.1437\n",
      "Epoch:80/100, batch:1/1, Training loss:0.1430\n",
      "Epoch:81/100, batch:1/1, Training loss:0.1423\n",
      "Epoch:82/100, batch:1/1, Training loss:0.1416\n",
      "Epoch:83/100, batch:1/1, Training loss:0.1409\n",
      "Epoch:84/100, batch:1/1, Training loss:0.1403\n",
      "Epoch:85/100, batch:1/1, Training loss:0.1396\n",
      "Epoch:86/100, batch:1/1, Training loss:0.1390\n",
      "Epoch:87/100, batch:1/1, Training loss:0.1383\n",
      "Epoch:88/100, batch:1/1, Training loss:0.1377\n",
      "Epoch:89/100, batch:1/1, Training loss:0.1371\n",
      "Epoch:90/100, batch:1/1, Training loss:0.1365\n",
      "Epoch:91/100, batch:1/1, Training loss:0.1359\n",
      "Epoch:92/100, batch:1/1, Training loss:0.1353\n",
      "Epoch:93/100, batch:1/1, Training loss:0.1347\n",
      "Epoch:94/100, batch:1/1, Training loss:0.1341\n",
      "Epoch:95/100, batch:1/1, Training loss:0.1335\n",
      "Epoch:96/100, batch:1/1, Training loss:0.1329\n",
      "Epoch:97/100, batch:1/1, Training loss:0.1323\n",
      "Epoch:98/100, batch:1/1, Training loss:0.1318\n",
      "Epoch:99/100, batch:1/1, Training loss:0.1312\n",
      "Epoch:100/100, batch:1/1, Training loss:0.1306\n"
     ]
    }
   ],
   "source": [
    "epoch = 100\n",
    "batch_size = mnist.train.num_examples\n",
    "sess.run(tf.global_variables_initializer())\n",
    "total_batch = mnist.train.num_examples // batch_size\n",
    "for ep in range(epoch):\n",
    "    for batch in range(total_batch):\n",
    "        batch_xs,_ = mnist.train.next_batch(batch_size=batch_size)\n",
    "        batch_cost, _ = sess.run([cost, optimizer],\n",
    "                                 feed_dict = {inputs_: batch_xs,\n",
    "                                              targets_: batch_xs})\n",
    "        print('Epoch:%s/%s, batch:%s/%s, Training loss:%.4f' %(ep+1, epoch, batch+1, total_batch, batch_cost))"
   ]
  },
  {
   "cell_type": "markdown",
   "metadata": {},
   "source": [
    "## 查看复现结果"
   ]
  },
  {
   "cell_type": "code",
   "execution_count": 63,
   "metadata": {},
   "outputs": [
    {
     "data": {
      "image/png": "[encoded data removed]",
      "text/plain": [
       "<matplotlib.figure.Figure at 0x7f059399be48>"
      ]
     },
     "metadata": {},
     "output_type": "display_data"
    }
   ],
   "source": [
    "# 绘图\n",
    "fig, axes = plt.subplots(nrows=2, ncols=5, sharex=True, sharey=True, figsize=(20,8))\n",
    "test_imgs = mnist.test.images[:5]\n",
    "reconstructed, compressed = sess.run([outputs_, hidden_],\n",
    "                                      feed_dict={inputs_: test_imgs})\n",
    "\n",
    "for image, row in zip([test_imgs, reconstructed], axes):\n",
    "    for img, ax in zip(image, row):\n",
    "        ax.imshow(img.reshape((28,28)))\n",
    "        ax.get_xaxis().set_visible(False)\n",
    "        ax.get_yaxis().set_visible(False)\n",
    "        \n",
    "fig.tight_layout(pad=0.1)"
   ]
  },
  {
   "cell_type": "code",
   "execution_count": 64,
   "metadata": {},
   "outputs": [
    {
     "data": {
      "image/png": "[encoded data removed]",
      "text/plain": [
       "<matplotlib.figure.Figure at 0x7f05936fa400>"
      ]
     },
     "metadata": {},
     "output_type": "display_data"
    }
   ],
   "source": [
    "fig, axes = plt.subplots(nrows=1, ncols=5, sharex=True, sharey=True, figsize=(20,4))\n",
    "for img, ax in zip(compressed, axes):\n",
    "    ax.imshow(img.reshape(8,8))\n",
    "    ax.get_xaxis().set_visible(False)\n",
    "    ax.get_yaxis().set_visible(False)\n",
    "fig.tight_layout(pad=0)"
   ]
  },
  {
   "cell_type": "code",
   "execution_count": 65,
   "metadata": {},
   "outputs": [],
   "source": [
    "sess.close()"
   ]
  },
  {
   "cell_type": "code",
   "execution_count": null,
   "metadata": {
    "collapsed": true
   },
   "outputs": [],
   "source": []
  }
 ],
 "metadata": {
  "kernelspec": {
   "display_name": "Python 3",
   "language": "python",
   "name": "python3"
  },
  "language_info": {
   "codemirror_mode": {
    "name": "ipython",
    "version": 3
   },
   "file_extension": ".py",
   "mimetype": "text/x-python",
   "name": "python",
   "nbconvert_exporter": "python",
   "pygments_lexer": "ipython3",
   "version": "3.6.1"
  }
 },
 "nbformat": 4,
 "nbformat_minor": 2
}
